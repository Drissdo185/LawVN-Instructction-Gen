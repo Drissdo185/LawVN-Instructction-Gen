{
 "cells": [
  {
   "cell_type": "code",
   "execution_count": 4,
   "metadata": {},
   "outputs": [
    {
     "name": "stderr",
     "output_type": "stream",
     "text": [
      "huggingface/tokenizers: The current process just got forked, after parallelism has already been used. Disabling parallelism to avoid deadlocks...\n",
      "To disable this warning, you can either:\n",
      "\t- Avoid using `tokenizers` before the fork if possible\n",
      "\t- Explicitly set the environment variable TOKENIZERS_PARALLELISM=(true | false)\n",
      "Some weights of RobertaModel were not initialized from the model checkpoint at vinai/phobert-base-v2 and are newly initialized: ['roberta.pooler.dense.bias', 'roberta.pooler.dense.weight']\n",
      "You should probably TRAIN this model on a down-stream task to be able to use it for predictions and inference.\n",
      "Asking to truncate to max_length but no maximum length is provided and the model has no predefined maximum length. Default to no truncation.\n"
     ]
    },
    {
     "name": "stdout",
     "output_type": "stream",
     "text": [
      "Document: lề đường - Cosine Similarity: 0.5847\n"
     ]
    }
   ],
   "source": [
    "from transformers import AutoModel, AutoTokenizer\n",
    "import torch\n",
    "import torch.nn.functional as F\n",
    "\n",
    "# Load PhoBERT model and tokenizer from Hugging Face\n",
    "model = AutoModel.from_pretrained(\"vinai/phobert-base-v2\")\n",
    "tokenizer = AutoTokenizer.from_pretrained(\"vinai/phobert-base-v2\")\n",
    "\n",
    "# Define query and documents\n",
    "query = \"vía hẻ\"\n",
    "docs = [\"lề đường\"]\n",
    "\n",
    "# Function to get embeddings\n",
    "def get_embedding(text):\n",
    "    # Tokenize and convert to PyTorch tensors\n",
    "    encoded_input = tokenizer(text, padding=True, truncation=True, return_tensors=\"pt\")\n",
    "    \n",
    "    # Get model output\n",
    "    with torch.no_grad():\n",
    "        model_output = model(**encoded_input)\n",
    "    \n",
    "    # Use the [CLS] token embedding as the sentence embedding\n",
    "    sentence_embedding = model_output.last_hidden_state[:, 0, :]\n",
    "    \n",
    "    # Normalize the embedding\n",
    "    sentence_embedding = F.normalize(sentence_embedding, p=2, dim=1)\n",
    "    \n",
    "    return sentence_embedding\n",
    "\n",
    "# Encode query and documents\n",
    "query_embedding = get_embedding([query])\n",
    "doc_embeddings = torch.cat([get_embedding([doc]) for doc in docs])\n",
    "\n",
    "# Calculate cosine similarity\n",
    "similarities = torch.mm(query_embedding, doc_embeddings.transpose(0, 1)).flatten()\n",
    "\n",
    "# Sort documents by cosine similarity\n",
    "sorted_indices = torch.argsort(similarities, descending=True)\n",
    "sorted_docs = [docs[idx] for idx in sorted_indices]\n",
    "sorted_scores = [similarities[idx].item() for idx in sorted_indices]\n",
    "\n",
    "# Print sorted documents with their cosine scores\n",
    "for doc, score in zip(sorted_docs, sorted_scores):\n",
    "    print(f\"Document: {doc} - Cosine Similarity: {score:.4f}\")"
   ]
  },
  {
   "cell_type": "code",
   "execution_count": null,
   "metadata": {},
   "outputs": [],
   "source": []
  }
 ],
 "metadata": {
  "kernelspec": {
   "display_name": "venv",
   "language": "python",
   "name": "python3"
  },
  "language_info": {
   "codemirror_mode": {
    "name": "ipython",
    "version": 3
   },
   "file_extension": ".py",
   "mimetype": "text/x-python",
   "name": "python",
   "nbconvert_exporter": "python",
   "pygments_lexer": "ipython3",
   "version": "3.10.12"
  }
 },
 "nbformat": 4,
 "nbformat_minor": 2
}
