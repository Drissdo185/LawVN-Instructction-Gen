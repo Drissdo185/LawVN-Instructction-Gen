{
 "cells": [
  {
   "cell_type": "code",
   "execution_count": 7,
   "metadata": {},
   "outputs": [],
   "source": [
    "import json\n",
    "import torch\n",
    "from llama_index.core import Document\n",
    "from llama_index.core.node_parser import SentenceSplitter\n",
    "from llama_index.core import StorageContext\n",
    "from llama_index.core import VectorStoreIndex\n",
    "from llama_index.embeddings.huggingface import HuggingFaceEmbedding\n",
    "from llama_index.vector_stores.weaviate import WeaviateVectorStore\n",
    "from pyvi import ViTokenizer\n",
    "import weaviate\n",
    "from weaviate.classes.init import Auth"
   ]
  },
  {
   "cell_type": "code",
   "execution_count": 8,
   "metadata": {},
   "outputs": [],
   "source": [
    "# Configuration constants\n",
    "WEAVIATE_URL=\"https://kh0e0endr9olrknql51vuw.c0.asia-southeast1.gcp.weaviate.cloud\"\n",
    "WEAVIATE_API_KEY=\"4eLFZtLBJdh8wOc0gHC85SzxmIuTYEzcIpup\"\n",
    "DATA_COLLECTION = \"ND168\"\n",
    "DEVICE = \"cuda:0\" if torch.cuda.is_available() else \"cpu\"\n",
    "MODEL_NAME = \"dangvantuan/vietnamese-document-embedding\"\n",
    "CHUNK_SIZE = 2000 \n",
    "CHUNK_OVERLAP = 500  "
   ]
  },
  {
   "cell_type": "code",
   "execution_count": 9,
   "metadata": {},
   "outputs": [],
   "source": [
    "# Load documents\n",
    "with open(\"/home/ltnga/LawVN-Instructction-Gen/src/data/data.json\") as f:\n",
    "    data = json.load(f)\n",
    "documents = [Document(text=doc) for doc in data]"
   ]
  },
  {
   "cell_type": "code",
   "execution_count": 10,
   "metadata": {},
   "outputs": [],
   "source": [
    "# Create chunker\n",
    "chunker = SentenceSplitter(\n",
    "    chunk_size=CHUNK_SIZE,\n",
    "    chunk_overlap=CHUNK_OVERLAP,\n",
    "    separator=\" \",\n",
    "    include_prev_next_rel=True,  # Keep relationships between chunks\n",
    ")"
   ]
  },
  {
   "cell_type": "code",
   "execution_count": 11,
   "metadata": {},
   "outputs": [
    {
     "name": "stderr",
     "output_type": "stream",
     "text": [
      "Parsing nodes: 100%|██████████| 51/51 [00:00<00:00, 480.21it/s]\n"
     ]
    }
   ],
   "source": [
    "# Process nodes\n",
    "nodes = chunker.get_nodes_from_documents(documents, show_progress=True)\n",
    "for node in nodes:\n",
    "    node.metadata[\"original_text\"] = node.text  # Store original text\n",
    "    node.text = ViTokenizer.tokenize(node.text.lower())  # Tokenize Vietnamese text\n",
    "    node.excluded_embed_metadata_keys.append(\"original_text\")\n",
    "    node.excluded_llm_metadata_keys.append(\"original_text\")"
   ]
  },
  {
   "cell_type": "code",
   "execution_count": 26,
   "metadata": {},
   "outputs": [
    {
     "data": {
      "text/plain": [
       "TextNode(id_='581a6fc4-dd50-433a-bf7e-fcb7d3ec0cfb', embedding=None, metadata={'original_text': 'Điều 2. Đối tượng áp dụng\\n1. Cá nhân, tổ chức Việt Nam; cá nhân, tổ chức nước ngoài có hành vi vi phạm hành chính về trật tự, an toàn giao thông trong lĩnh vực giao thông đường bộ trên lãnh thổ nước Cộng hòa xã hội chủ nghĩa Việt Nam.\\n2. Tổ chức quy định tại khoản 1 Điều này bao gồm:\\na) Cơ quan nhà nước có hành vi vi phạm mà hành vi đó không thuộc nhiệm vụ quản lý nhà nước được giao;\\nb) Đơn vị sự nghiệp công lập;\\nc) Tổ chức chính trị - xã hội, tổ chức chính trị xã hội nghề nghiệp, tổ chức xã hội, tổ chức xã hội nghề nghiệp;\\nd) Tổ chức kinh tế được thành lập theo quy định của Luật Doanh nghiệp gồm: doanh nghiệp tư nhân, công ty cổ phần, công ty trách nhiệm hữu hạn, công ty hợp danh và các đơn vị phụ thuộc doanh nghiệp (chi nhánh, văn phòng đại diện);\\nđ) Tổ chức kinh tế được thành lập theo quy định của Luật Hợp tác xã gồm: tổ hợp tác, hợp tác xã, liên hiệp hợp tác xã;\\ne) Cơ sở đào tạo lái xe, trung tâm sát hạch lái xe, cơ sở đăng kiểm xe cơ giới, xe máy chuyên dùng, cơ sở thử nghiệm, sản xuất, lắp ráp, nhập khẩu, bảo hành, bảo dưỡng xe cơ giới, xe máy chuyên dùng;\\ng) Các tổ chức khác được thành lập theo quy định của pháp luật;\\nh) Cơ quan, tổ chức nước ngoài được cấp có thẩm quyền của Việt Nam cho phép hoạt động trên lãnh thổ Việt Nam.\\n3. Hộ kinh doanh, hộ gia đình thực hiện hành vi vi phạm hành chính quy định tại Nghị định này bị xử phạt như đối với cá nhân vi phạm.\\n4. Người có thẩm quyền lập biên bản vi phạm hành chính, thẩm quyền xử phạt vi phạm hành chính và tổ chức, cá nhân có liên quan đến việc xử phạt vi phạm hành chính theo quy định tại Nghị định này.\\n5. Người có thẩm quyền trừ điểm, phục hồi điểm giấy phép lái xe.'}, excluded_embed_metadata_keys=['original_text'], excluded_llm_metadata_keys=['original_text'], relationships={<NodeRelationship.SOURCE: '1'>: RelatedNodeInfo(node_id='b9e73a3d-2c18-4d3e-9cfc-9e9775533faf', node_type=<ObjectType.DOCUMENT: '4'>, metadata={}, hash='b7a018804643496c423b7e6d9f20ed1cfb6544d9146111dcebe65e661794412f')}, metadata_template='{key}: {value}', metadata_separator='\\n', text='điều 2 . đối_tượng áp_dụng 1 . cá_nhân , tổ_chức việt nam ; cá_nhân , tổ_chức nước_ngoài có hành_vi vi_phạm hành_chính về trật_tự , an_toàn giao_thông trong lĩnh_vực giao_thông đường_bộ trên lãnh_thổ nước cộng hòa xã_hội chủ_nghĩa việt nam . 2 . tổ_chức quy_định tại khoản 1 điều này bao_gồm : a ) cơ_quan nhà_nước có hành_vi vi_phạm mà hành_vi đó không thuộc nhiệm_vụ quản_lý nhà_nước được giao ; b ) đơn_vị sự_nghiệp công_lập ; c ) tổ_chức chính_trị - xã_hội , tổ_chức chính_trị xã_hội nghề_nghiệp , tổ_chức xã_hội , tổ_chức xã_hội nghề_nghiệp ; d ) tổ_chức kinh_tế được thành_lập theo quy_định của luật doanh_nghiệp gồm : doanh_nghiệp tư_nhân , công_ty cổ_phần , công_ty trách_nhiệm hữu_hạn , công_ty hợp danh và các đơn_vị phụ_thuộc doanh_nghiệp ( chi_nhánh , văn_phòng đại_diện ) ; đ ) tổ_chức kinh_tế được thành_lập theo quy_định của luật hợp_tác_xã gồm : tổ_hợp_tác , hợp_tác_xã , liên_hiệp hợp_tác_xã ; e ) cơ_sở đào_tạo lái_xe , trung_tâm sát_hạch lái_xe , cơ_sở đăng_kiểm xe cơ_giới , xe_máy chuyên_dùng , cơ_sở thử_nghiệm , sản_xuất , lắp_ráp , nhập_khẩu , bảo_hành , bảo_dưỡng xe cơ_giới , xe_máy chuyên_dùng ; g ) các tổ_chức khác được thành_lập theo quy_định của pháp_luật ; h ) cơ_quan , tổ_chức nước_ngoài được cấp có thẩm_quyền của việt nam cho phép hoạt_động trên lãnh_thổ việt nam . 3 . hộ kinh_doanh , hộ gia_đình thực_hiện_hành_vi vi_phạm hành_chính quy_định tại nghị_định này bị xử_phạt như đối_với cá_nhân vi_phạm . 4 . người có thẩm_quyền lập biên_bản vi_phạm hành_chính , thẩm_quyền xử_phạt vi_phạm hành_chính và tổ_chức , cá_nhân có liên_quan đến việc xử_phạt vi_phạm hành_chính theo quy_định tại nghị_định này . 5 . người có thẩm_quyền_trừ điểm , phục_hồi điểm giấy_phép lái_xe .', mimetype='text/plain', start_char_idx=0, end_char_idx=1647, metadata_seperator='\\n', text_template='{metadata_str}\\n\\n{content}')"
      ]
     },
     "execution_count": 26,
     "metadata": {},
     "output_type": "execute_result"
    }
   ],
   "source": [
    "nodes[1]"
   ]
  },
  {
   "cell_type": "code",
   "execution_count": 12,
   "metadata": {},
   "outputs": [],
   "source": [
    "# Setup vector store\n",
    "client = weaviate.connect_to_weaviate_cloud(\n",
    "    cluster_url=WEAVIATE_URL,\n",
    "    auth_credentials=Auth.api_key(WEAVIATE_API_KEY),\n",
    ")\n",
    "vector_store = WeaviateVectorStore(\n",
    "    weaviate_client=client,\n",
    "    index_name=DATA_COLLECTION\n",
    ")"
   ]
  },
  {
   "cell_type": "code",
   "execution_count": 13,
   "metadata": {},
   "outputs": [
    {
     "name": "stderr",
     "output_type": "stream",
     "text": [
      "A new version of the following files was downloaded from https://huggingface.co/dangvantuan/Vietnamese_impl:\n",
      "- configuration.py\n",
      ". Make sure to double-check they do not contain any added malicious code. To avoid downloading new versions of the code file, you can pin a revision.\n",
      "A new version of the following files was downloaded from https://huggingface.co/dangvantuan/Vietnamese_impl:\n",
      "- modeling.py\n",
      ". Make sure to double-check they do not contain any added malicious code. To avoid downloading new versions of the code file, you can pin a revision.\n"
     ]
    }
   ],
   "source": [
    "# Create embedding model\n",
    "embed_model = HuggingFaceEmbedding(\n",
    "    model_name=MODEL_NAME,\n",
    "    max_length=8192,\n",
    "    device=DEVICE,\n",
    "    trust_remote_code=True\n",
    ")"
   ]
  },
  {
   "cell_type": "code",
   "execution_count": 14,
   "metadata": {},
   "outputs": [
    {
     "name": "stderr",
     "output_type": "stream",
     "text": [
      "Generating embeddings: 100%|██████████| 98/98 [00:03<00:00, 32.52it/s]\n"
     ]
    }
   ],
   "source": [
    "# Build index\n",
    "storage_context = StorageContext.from_defaults(vector_store=vector_store)\n",
    "index = VectorStoreIndex(\n",
    "    nodes,\n",
    "    storage_context=storage_context,\n",
    "    embed_model=embed_model,\n",
    "    insert_batch_size=32768,  # Optimized batch size\n",
    "    show_progress=True\n",
    ")"
   ]
  },
  {
   "cell_type": "code",
   "execution_count": 21,
   "metadata": {},
   "outputs": [],
   "source": [
    "# Create retriever\n",
    "retriever = index.as_retriever(\n",
    "    vector_store_query_mode=\"hybrid\",\n",
    "    similarity_top_k=5,\n",
    "    alpha=0.2  # Balance between keyword and semantic search\n",
    ")"
   ]
  },
  {
   "cell_type": "code",
   "execution_count": 24,
   "metadata": {},
   "outputs": [
    {
     "name": "stdout",
     "output_type": "stream",
     "text": [
      "Result 1:\n",
      "\n",
      "Text: 3 . phạt tiền từ 800.000 đồng đến 1.000.000 đồng đối_với người điều_khiển xe thực_hiện một trong các hành_vi vi_phạm sau đây : a ) điều_khiển xe chạy quá tốc_độ quy_định từ 05 km / h đến dưới 10 km / h ; b ) sử_dụng còi , rú ga liên_tục ; sử_dụng còi hơi , sử_dụng đèn_chiếu xa khi gặp người đi bộ qua đường hoặc khi đi trên đoạn đường qua khu dân_cư có hệ_thống chiếu sáng đang hoạt_động hoặc khi gặp xe đi ngược chiều ( trừ trường_hợp dải_phân_cách có khả_năng chống chói ) hoặc khi chuyển_hướng xe tại nơi đường giao nhau , trừ các xe ưu_tiên đang đi làm nhiệm_vụ theo quy_định ; c ) chuyển_hướng không quan_sát hoặc không bảo_đảm khoảng cách an_toàn với xe phía sau hoặc không giảm_tốc_độ hoặc không có tín_hiệu báo hướng rẽ hoặc có tín_hiệu báo hướng rẽ nhưng không sử_dụng liên_tục trong quá_trình chuyển_hướng ( trừ trường_hợp điều_khiển xe đi theo hướng cong của đoạn đường_bộ ở nơi đường không giao nhau cùng mức ) ; d ) không tuân_thủ các quy_định về dừng xe , đỗ xe tại nơi đường_bộ giao nhau cùng mức với đường_sắt ; dừng xe , đỗ xe trong phạm_vi bảo_vệ công_trình đường_sắt , phạm_vi an_toàn của đường_sắt ; đ ) dừng xe , đỗ xe tại vị_trí : nơi đường_bộ giao nhau hoặc trong phạm_vi 05 mét tính từ mép đường giao nhau ; điểm đón , trả khách ; trước cổng hoặc trong phạm_vi 05 mét hai bên cổng trụ_sở cơ_quan , tổ_chức có bố_trí đường cho xe ra , vào ; nơi phân đường có bề rộng chỉ đủ cho một làn xe cơ_giới ; che_khuất biển báo_hiệu đường_bộ , đèn tín_hiệu giao_thông ; nơi mở dải_phân_cách giữa ; cách xe ô_tô đang đỗ_ngược chiều dưới 20 mét trên đường_phố hẹp , dưới 40 mét trên đường có một làn xe cơ_giới trên một chiều đường ; e ) đỗ xe không sát theo lề_đường , vỉa_hè phía bên phải theo chiều đi hoặc bánh_xe gần nhất cách lề_đường , vỉa_hè quá 0,25 mét ; đỗ xe trên đường dành riêng cho xe_buýt ; đỗ xe trên miệng cống thoát nước , miệng hầm của đường điện_thoại , điện cao_thế , chỗ dành riêng cho xe chữa_cháy lấy nước ; đỗ , để xe ở vỉa_hè trái quy_định của pháp_luật ; đỗ xe nơi có biển “ cấm đỗ xe ” hoặc biển “ cấm dừng xe và đỗ xe ” , trừ hành_vi vi_phạm_quy_định tại điểm đ khoản 4 , điểm c khoản 7 điều này ; g ) không sử_dụng hoặc sử_dụng không đủ đèn_chiếu sáng trong thời_gian từ 18 giờ ngày hôm trước đến 06 giờ ngày hôm sau hoặc khi có sương_mù , khói , bụi , trời mưa , thời_tiết xấu làm hạn_chế tầm nhìn ; h ) điều_khiển xe ô_tô kéo_theo xe khác , vật khác ( trừ trường_hợp kéo_theo một rơ_moóc , sơ_mi rơ_moóc hoặc một xe ô_tô , xe_máy chuyên_dùng khác khi xe này không tự chạy được ) ; điều_khiển xe ô_tô đẩy xe khác , vật khác ; điều_khiển xe_kéo rơ_moóc , sơ_mi rơ_moóc kéo thêm rơ_moóc hoặc xe khác , vật khác ; không nối chắc_chắn , an_toàn giữa xe_kéo và xe được kéo khi kéo nhau ; i ) chở người trên xe được kéo , trừ người điều_khiển ; k ) không thắt dây đai an_toàn khi điều_khiển xe chạy trên đường ; l ) chở người trên xe ô_tô không thắt dây đai an_toàn ( tại vị_trí có trang_bị dây đai an_toàn ) khi xe đang chạy ; m ) chở trẻ_em dưới 10 tuổi và chiều cao dưới 1,35 mét trên xe ô_tô ngồi cùng hàng ghế với người lái_xe ( trừ loại xe ô_tô chỉ có một hàng ghế ) hoặc không sử_dụng thiết_bị an_toàn phù_hợp cho trẻ_em theo quy_định ; n ) chạy trong hầm đường_bộ không sử_dụng đèn_chiếu sáng gần ; o ) điều_khiển xe chạy dưới tốc_độ tối_thiểu trên đoạn đường_bộ có quy_định tốc_độ tối_thiểu cho phép ; p ) điều_khiển xe chạy tốc_độ thấp hơn các xe khác đi cùng chiều mà không đi về làn_đường bên phải chiều đi của mình , trừ trường_hợp các xe khác đi cùng chiều chạy quá tốc_độ quy_định . 4 .\n",
      "\n",
      "Metadata: {'original_text': '3. Phạt tiền từ 800.000 đồng đến 1.000.000 đồng đối với người điều khiển xe thực hiện một trong các hành vi vi phạm sau đây:\\na) Điều khiển xe chạy quá tốc độ quy định từ 05 km/h đến dưới 10 km/h;\\nb) Sử dụng còi, rú ga liên tục; sử dụng còi hơi, sử dụng đèn chiếu xa khi gặp người đi bộ qua đường hoặc khi đi trên đoạn đường qua khu dân cư có hệ thống chiếu sáng đang hoạt động hoặc khi gặp xe đi ngược chiều (trừ trường hợp dải phân cách có khả năng chống chói) hoặc khi chuyển hướng xe tại nơi đường giao nhau, trừ các xe ưu tiên đang đi làm nhiệm vụ theo quy định;\\nc) Chuyển hướng không quan sát hoặc không bảo đảm khoảng cách an toàn với xe phía sau hoặc không giảm tốc độ hoặc không có tín hiệu báo hướng rẽ hoặc có tín hiệu báo hướng rẽ nhưng không sử dụng liên tục trong quá trình chuyển hướng (trừ trường hợp điều khiển xe đi theo hướng cong của đoạn đường bộ ở nơi đường không giao nhau cùng mức);\\nd) Không tuân thủ các quy định về dừng xe, đỗ xe tại nơi đường bộ giao nhau cùng mức với đường sắt; dừng xe, đỗ xe trong phạm vi bảo vệ công trình đường sắt, phạm vi an toàn của đường sắt;\\nđ) Dừng xe, đỗ xe tại vị trí: nơi đường bộ giao nhau hoặc trong phạm vi 05 mét tính từ mép đường giao nhau; điểm đón, trả khách; trước cổng hoặc trong phạm vi 05 mét hai bên cổng trụ sở cơ quan, tổ chức có bố trí đường cho xe ra, vào; nơi phân đường có bề rộng chỉ đủ cho một làn xe cơ giới; che khuất biển báo hiệu đường bộ, đèn tín hiệu giao thông; nơi mở dải phân cách giữa; cách xe ô tô đang đỗ ngược chiều dưới 20 mét trên đường phố hẹp, dưới 40 mét trên đường có một làn xe cơ giới trên một chiều đường;\\ne) Đỗ xe không sát theo lề đường, vỉa hè phía bên phải theo chiều đi hoặc bánh xe gần nhất cách lề đường, vỉa hè quá 0,25 mét; đỗ xe trên đường dành riêng cho xe buýt; đỗ xe trên miệng cống thoát nước, miệng hầm của đường điện thoại, điện cao thế, chỗ dành riêng cho xe chữa cháy lấy nước; đỗ, để xe ở vỉa hè trái quy định của pháp luật; đỗ xe nơi có biển “Cấm đỗ xe” hoặc biển “Cấm dừng xe và đỗ xe”, trừ hành vi vi phạm quy định tại điểm đ khoản 4, điểm c khoản 7 Điều này;\\ng) Không sử dụng hoặc sử dụng không đủ đèn chiếu sáng trong thời gian từ 18 giờ ngày hôm trước đến 06 giờ ngày hôm sau hoặc khi có sương mù, khói, bụi, trời mưa, thời tiết xấu làm hạn chế tầm nhìn;\\nh) Điều khiển xe ô tô kéo theo xe khác, vật khác (trừ trường hợp kéo theo một rơ moóc, sơ mi rơ moóc hoặc một xe ô tô, xe máy chuyên dùng khác khi xe này không tự chạy được); điều khiển xe ô tô đẩy xe khác, vật khác; điều khiển xe kéo rơ moóc, sơ mi rơ moóc kéo thêm rơ moóc hoặc xe khác, vật khác; không nối chắc chắn, an toàn giữa xe kéo và xe được kéo khi kéo nhau;\\ni) Chở người trên xe được kéo, trừ người điều khiển;\\nk) Không thắt dây đai an toàn khi điều khiển xe chạy trên đường;\\nl) Chở người trên xe ô tô không thắt dây đai an toàn (tại vị trí có trang bị dây đai an toàn) khi xe đang chạy;\\nm) Chở trẻ em dưới 10 tuổi và chiều cao dưới 1,35 mét trên xe ô tô ngồi cùng hàng ghế với người lái xe (trừ loại xe ô tô chỉ có một hàng ghế) hoặc không sử dụng thiết bị an toàn phù hợp cho trẻ em theo quy định;\\nn) Chạy trong hầm đường bộ không sử dụng đèn chiếu sáng gần;\\no) Điều khiển xe chạy dưới tốc độ tối thiểu trên đoạn đường bộ có quy định tốc độ tối thiểu cho phép;\\np) Điều khiển xe chạy tốc độ thấp hơn các xe khác đi cùng chiều mà không đi về làn đường bên phải chiều đi của mình, trừ trường hợp các xe khác đi cùng chiều chạy quá tốc độ quy định.\\n4.'}\n",
      "\n",
      "Score: 0.940894603729248\n",
      "\n"
     ]
    },
    {
     "ename": "AttributeError",
     "evalue": "'NodeWithScore' object has no attribute 'embeddings'",
     "output_type": "error",
     "traceback": [
      "\u001b[0;31m---------------------------------------------------------------------------\u001b[0m",
      "\u001b[0;31mAttributeError\u001b[0m                            Traceback (most recent call last)",
      "Cell \u001b[0;32mIn[24], line 8\u001b[0m\n\u001b[1;32m      6\u001b[0m \u001b[38;5;28mprint\u001b[39m(\u001b[38;5;124mf\u001b[39m\u001b[38;5;124m\"\u001b[39m\u001b[38;5;124mMetadata: \u001b[39m\u001b[38;5;132;01m{\u001b[39;00mnode\u001b[38;5;241m.\u001b[39mmetadata\u001b[38;5;132;01m}\u001b[39;00m\u001b[38;5;130;01m\\n\u001b[39;00m\u001b[38;5;124m\"\u001b[39m)\n\u001b[1;32m      7\u001b[0m \u001b[38;5;28mprint\u001b[39m(\u001b[38;5;124mf\u001b[39m\u001b[38;5;124m\"\u001b[39m\u001b[38;5;124mScore: \u001b[39m\u001b[38;5;132;01m{\u001b[39;00mnode\u001b[38;5;241m.\u001b[39mscore\u001b[38;5;132;01m}\u001b[39;00m\u001b[38;5;130;01m\\n\u001b[39;00m\u001b[38;5;124m\"\u001b[39m)\n\u001b[0;32m----> 8\u001b[0m \u001b[38;5;28mprint\u001b[39m(\u001b[38;5;124mf\u001b[39m\u001b[38;5;124m\"\u001b[39m\u001b[38;5;124mToken Embedding: \u001b[39m\u001b[38;5;132;01m{\u001b[39;00m\u001b[43mnode\u001b[49m\u001b[38;5;241;43m.\u001b[39;49m\u001b[43membeddings\u001b[49m\u001b[38;5;132;01m}\u001b[39;00m\u001b[38;5;130;01m\\n\u001b[39;00m\u001b[38;5;124m\"\u001b[39m)\n\u001b[1;32m      9\u001b[0m \u001b[38;5;28mprint\u001b[39m(\u001b[38;5;124m\"\u001b[39m\u001b[38;5;124m=\u001b[39m\u001b[38;5;124m\"\u001b[39m\u001b[38;5;241m*\u001b[39m\u001b[38;5;241m50\u001b[39m)\n",
      "File \u001b[0;32m~/LawVN-Instructction-Gen/venv/lib/python3.10/site-packages/pydantic/main.py:891\u001b[0m, in \u001b[0;36mBaseModel.__getattr__\u001b[0;34m(self, item)\u001b[0m\n\u001b[1;32m    888\u001b[0m     \u001b[38;5;28;01mreturn\u001b[39;00m \u001b[38;5;28msuper\u001b[39m()\u001b[38;5;241m.\u001b[39m\u001b[38;5;21m__getattribute__\u001b[39m(item)  \u001b[38;5;66;03m# Raises AttributeError if appropriate\u001b[39;00m\n\u001b[1;32m    889\u001b[0m \u001b[38;5;28;01melse\u001b[39;00m:\n\u001b[1;32m    890\u001b[0m     \u001b[38;5;66;03m# this is the current error\u001b[39;00m\n\u001b[0;32m--> 891\u001b[0m     \u001b[38;5;28;01mraise\u001b[39;00m \u001b[38;5;167;01mAttributeError\u001b[39;00m(\u001b[38;5;124mf\u001b[39m\u001b[38;5;124m'\u001b[39m\u001b[38;5;132;01m{\u001b[39;00m\u001b[38;5;28mtype\u001b[39m(\u001b[38;5;28mself\u001b[39m)\u001b[38;5;241m.\u001b[39m\u001b[38;5;18m__name__\u001b[39m\u001b[38;5;132;01m!r}\u001b[39;00m\u001b[38;5;124m object has no attribute \u001b[39m\u001b[38;5;132;01m{\u001b[39;00mitem\u001b[38;5;132;01m!r}\u001b[39;00m\u001b[38;5;124m'\u001b[39m)\n",
      "\u001b[0;31mAttributeError\u001b[0m: 'NodeWithScore' object has no attribute 'embeddings'"
     ]
    }
   ],
   "source": [
    "query = \"Hành vi chở trẻ em dưới 10 tuổi và chiều cao dưới 1,35 mét trên ô tô mà không sử dụng thiết bị an toàn phù hợp sẽ bị phạt tiền\"\n",
    "results = retriever.retrieve(query)\n",
    "for i, node in enumerate(results):\n",
    "    print(f\"Result {i+1}:\\n\")\n",
    "    print(f\"Text: {node.text}\\n\")\n",
    "    print(f\"Metadata: {node.metadata}\\n\")\n",
    "    print(f\"Score: {node.score}\\n\")\n",
    "    print(f\"Token Embedding: {node.embeddings}\\n\")\n",
    "    print(\"=\"*50)\n"
   ]
  },
  {
   "cell_type": "code",
   "execution_count": null,
   "metadata": {},
   "outputs": [],
   "source": []
  }
 ],
 "metadata": {
  "kernelspec": {
   "display_name": "venv",
   "language": "python",
   "name": "python3"
  },
  "language_info": {
   "codemirror_mode": {
    "name": "ipython",
    "version": 3
   },
   "file_extension": ".py",
   "mimetype": "text/x-python",
   "name": "python",
   "nbconvert_exporter": "python",
   "pygments_lexer": "ipython3",
   "version": "3.10.12"
  }
 },
 "nbformat": 4,
 "nbformat_minor": 2
}
