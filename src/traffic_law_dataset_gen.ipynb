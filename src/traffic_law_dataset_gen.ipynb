{
 "cells": [
  {
   "cell_type": "code",
   "execution_count": 3,
   "metadata": {},
   "outputs": [
    {
     "name": "stderr",
     "output_type": "stream",
     "text": [
      "/home/ltnga/LawVN-Instructction-Gen/venv/lib/python3.10/site-packages/tqdm/auto.py:21: TqdmWarning: IProgress not found. Please update jupyter and ipywidgets. See https://ipywidgets.readthedocs.io/en/stable/user_install.html\n",
      "  from .autonotebook import tqdm as notebook_tqdm\n"
     ]
    }
   ],
   "source": [
    "import json \n",
    "import requests\n",
    "from typing import List, Dict\n",
    "import time \n",
    "import re\n",
    "\n",
    "from transformers import AutoTokenizer, AutoModelForCausalLM\n",
    "import torch\n",
    "import accelerate\n",
    "from transformers import pipeline"
   ]
  },
  {
   "cell_type": "code",
   "execution_count": 4,
   "metadata": {},
   "outputs": [
    {
     "name": "stderr",
     "output_type": "stream",
     "text": [
      "Downloading shards: 100%|██████████| 8/8 [27:23<00:00, 205.49s/it]\n",
      "Loading checkpoint shards: 100%|██████████| 8/8 [09:31<00:00, 71.44s/it]\n"
     ]
    }
   ],
   "source": [
    "model_name = \"deepseek-ai/DeepSeek-R1-Distill-Qwen-32B\"\n",
    "tokenizer = AutoTokenizer.from_pretrained(model_name, trust_remote_code=True)\n",
    "model = AutoModelForCausalLM.from_pretrained(\n",
    "        model_name,\n",
    "        device_map=\"auto\",\n",
    "        trust_remote_code=True,\n",
    "        torch_dtype=torch.float16\n",
    "    )"
   ]
  },
  {
   "cell_type": "code",
   "execution_count": null,
   "metadata": {},
   "outputs": [],
   "source": [
    "file_path = \"/home/ltnga/LawVN-Instructction-Gen/src/data/data_test.json\"\n",
    "with open(file_path, 'r', encoding='utf-8') as f:\n",
    "        data =json.load(f)"
   ]
  },
  {
   "cell_type": "code",
   "execution_count": null,
   "metadata": {},
   "outputs": [],
   "source": [
    "articles = []\n",
    "parts = text.split('Điều ')\n",
    "for part in parts[1:]:\n",
    "    article_text = 'Điều ' + part\n",
    "    articles.append(article_text.strip())"
   ]
  },
  {
   "cell_type": "code",
   "execution_count": null,
   "metadata": {},
   "outputs": [],
   "source": [
    "chunks = []\n",
    "paragraphs = article.split('\\n')\n",
    "current_chunk = \"\"\n",
    "    \n",
    "for para in paragraphs:\n",
    "    if len(current_chunk) + len(para) > max_tokens:\n",
    "        if current_chunk:\n",
    "            chunks.append(current_chunk)\n",
    "        current_chunk = para\n",
    "    else:\n",
    "        current_chunk += \"\\n\" + para if current_chunk else para\n",
    "    \n",
    "if current_chunk:\n",
    "    chunks.append(current_chunk)"
   ]
  },
  {
   "cell_type": "code",
   "execution_count": null,
   "metadata": {},
   "outputs": [],
   "source": [
    " prompt = f\"\"\"Bạn là một chuyên gia về luật giao thông. Hãy đọc đoạn văn bản sau và tạo ra 5 cặp câu hỏi - câu trả lời về nội dung đoạn văn bản đó. Câu hỏi và câu trả lời phải chính xác, rõ ràng và có tính thực tế.\n",
    "\n",
    "Văn bản:\n",
    "{context}\n",
    "\n",
    "Yêu cầu output format JSON:\n",
    "{{\n",
    "    \"qas\": [\n",
    "        {{\n",
    "            \"question\": \"Câu hỏi...\",\n",
    "            \"answer\": \"Câu trả lời...\", \n",
    "            \"context\": \"{context}\",\n",
    "            \"metadata\": {{\n",
    "                \"article\": \"Điều số...\",\n",
    "                \"category\": \"Chọn 1 trong các category: Mức phạt/Hành vi vi phạm/Quy định chung\",\n",
    "                \"tags\": [\"tag1\", \"tag2\"]\n",
    "            }}\n",
    "        }}\n",
    "    ]\n",
    "}}\n",
    "\n",
    "Chỉ trả về JSON, không thêm bất kỳ text nào khác.\"\"\""
   ]
  },
  {
   "cell_type": "code",
   "execution_count": null,
   "metadata": {},
   "outputs": [],
   "source": [
    "inputs = tokenizer(prompt, return_tensors=\"pt\").to(model.device)\n",
    "    \n",
    "with torch.no_grad():\n",
    "    outputs = model.generate(\n",
    "        **inputs,\n",
    "        max_new_tokens=2000,\n",
    "        temperature=0.7,\n",
    "        do_sample=True,\n",
    "        top_p=0.95,\n",
    "        num_return_sequences=1,\n",
    "        pad_token_id=tokenizer.eos_token_id\n",
    "        )\n",
    "    \n",
    "    response = tokenizer.decode(outputs[0], skip_special_tokens=True)\n",
    "    \n",
    "try:\n",
    "    # Extract JSON content (everything between first { and last })\n",
    "    json_str = response[response.find('{'):response.rfind('}')+1]\n",
    "    json.loads(json_str)\n",
    "except json.JSONDecodeError as e:\n",
    "    print(f\"Error decoding JSON: {e}\")\n",
    "    print(f\"Raw response: {response}\")"
   ]
  }
 ],
 "metadata": {
  "kernelspec": {
   "display_name": "venv",
   "language": "python",
   "name": "python3"
  },
  "language_info": {
   "codemirror_mode": {
    "name": "ipython",
    "version": 3
   },
   "file_extension": ".py",
   "mimetype": "text/x-python",
   "name": "python",
   "nbconvert_exporter": "python",
   "pygments_lexer": "ipython3",
   "version": "3.10.12"
  }
 },
 "nbformat": 4,
 "nbformat_minor": 2
}
