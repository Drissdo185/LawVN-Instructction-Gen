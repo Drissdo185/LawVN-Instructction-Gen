{
 "cells": [
  {
   "cell_type": "code",
   "execution_count": 1,
   "metadata": {},
   "outputs": [
    {
     "name": "stderr",
     "output_type": "stream",
     "text": [
      "/home/ltnga/LawVN-Instructction-Gen/venv/lib/python3.10/site-packages/tqdm/auto.py:21: TqdmWarning: IProgress not found. Please update jupyter and ipywidgets. See https://ipywidgets.readthedocs.io/en/stable/user_install.html\n",
      "  from .autonotebook import tqdm as notebook_tqdm\n"
     ]
    }
   ],
   "source": [
    "import json\n",
    "from transformers import AutoTokenizer, AutoModelForCausalLM\n",
    "import torch\n",
    "import accelerate\n",
    "from transformers import pipeline"
   ]
  },
  {
   "cell_type": "code",
   "execution_count": 2,
   "metadata": {},
   "outputs": [
    {
     "name": "stderr",
     "output_type": "stream",
     "text": [
      "Loading checkpoint shards: 100%|██████████| 8/8 [09:53<00:00, 74.14s/it]\n"
     ]
    }
   ],
   "source": [
    "model_name = \"deepseek-ai/DeepSeek-R1-Distill-Qwen-32B\"\n",
    "tokenizer = AutoTokenizer.from_pretrained(model_name, trust_remote_code=True)\n",
    "model = AutoModelForCausalLM.from_pretrained(\n",
    "        model_name,\n",
    "        device_map=\"auto\",\n",
    "        trust_remote_code=True,\n",
    "        torch_dtype=torch.float16\n",
    "    )"
   ]
  },
  {
   "cell_type": "code",
   "execution_count": 3,
   "metadata": {},
   "outputs": [],
   "source": [
    "file_path = \"/home/ltnga/LawVN-Instructction-Gen/src/data/data_gen.json\"\n",
    "with open(file_path, 'r', encoding='utf-8') as f:\n",
    "        data =json.load(f)"
   ]
  },
  {
   "cell_type": "code",
   "execution_count": 4,
   "metadata": {},
   "outputs": [
    {
     "data": {
      "text/plain": [
       "'Điều 34. Xử phạt, trừ điểm giấy phép lái xe của người điều khiển quá khổ giới hạn, xe quá tải trọng, xe bánh xích lưu hành đường bộ (kể cả xe ô tô chở hành khách)\\n1. Phạt tiền từ 3.000.000 đồng đến 5.000.000 đồng đối với hành vi không thực hiện đúng quy định trong giấy phép lưu hành, trừ các hành vi vi phạm quy định tại điểm a, điểm b khoản 3; điểm b, điểm c khoản 4 Điều này.\\n2. Phạt tiền từ 4.000.000 đồng đến 6.000.000 đồng đối với hành vi điều khiển xe mà tổng trọng lượng (khối lượng toàn bộ) của xe vượt quá tải trọng cho phép của đường bộ trên 10% đến 20%, trừ trường hợp có giấy phép lưu hành còn giá trị sử dụng.\\n3. Phạt tiền từ 8.000.000 đồng đến 10.000.000 đồng đối với một trong các hành vi vi phạm sau đây:\\na) Chở hàng vượt khổ giới hạn của xe hoặc của đường bộ ghi trong giấy phép lưu hành;\\nb) Điều khiển xe bánh xích tham gia giao thông không có giấy phép lưu hành hoặc có giấy phép lưu hành nhưng không còn giá trị sử dụng theo quy định hoặc lưu thông trực tiếp trên đường mà không thực hiện biện pháp bảo vệ đường theo quy định;\\nc) Điều khiển xe có kích thước bao ngoài vượt quá khổ giới hạn của đường bộ hoặc chở hàng vượt khổ giới hạn của đường bộ hoặc chở hàng vượt quá kích thước giới hạn xếp hàng hóa của xe tham gia giao thông, trừ trường hợp có giấy phép lưu hành còn giá trị sử dụng;\\nd) Điều khiển xe có kích thước bao ngoài vượt quá kích thước giới hạn cho phép của xe theo quy định, trừ trường hợp có giấy phép lưu hành còn giá trị sử dụng.\\n4. Phạt tiền từ 13.000.000 đồng đến 15.000.000 đồng đối với một trong các hành vi vi phạm sau đây:\\na) Điều khiển xe mà tổng trọng lượng (khối lượng toàn bộ) của xe hoặc tải trọng trục xe (bao gồm cả hàng hóa xếp trên xe, người được chở trên xe) vượt quá tải trọng cho phép của đường bộ trên 20% đến 50%, trừ trường hợp có giấy phép lưu hành còn giá trị sử dụng;\\nb) Điều khiển xe có giấy phép lưu hành còn giá trị sử dụng nhưng tổng trọng lượng (khối lượng toàn bộ) của xe hoặc tải trọng trục xe (bao gồm cả hàng hóa xếp trên xe nếu có) vượt quá quy định trong giấy phép lưu hành;\\nc) Điều khiển xe có giấy phép lưu hành còn giá trị sử dụng nhưng đi không đúng tuyến đường quy định trong giấy phép lưu hành.\\n5. Phạt tiền từ 40.000.000 đồng đến 50.000.000 đồng đối với một trong các hành vi vi phạm sau đây:\\na) Điều khiển xe mà tổng trọng lượng (khối lượng toàn bộ) của xe hoặc tải trọng trục xe (bao gồm cả hàng hóa xếp trên xe, người được chở trên xe) vượt quá tải trọng cho phép của đường bộ trên 50%, trừ trường hợp có giấy phép lưu hành còn giá trị sử dụng;\\nb) Không chấp hành yêu cầu kiểm tra về trọng tải, tải trọng, khổ giới hạn xe, vận chuyển hàng siêu trường, siêu trọng của người thi hành công vụ; chuyển tải hoặc dùng các thủ đoạn khác để trốn tránh việc phát hiện xe chở quá tải, quá khổ.\\n6. Ngoài việc bị áp dụng hình thức xử phạt, người điều khiển phương tiện thực hiện hành vi vi phạm quy định tại khoản 1, khoản 2, khoản 3, khoản 4, khoản 5 Điều này nếu gây hư hại cầu, đường còn bị áp dụng biện pháp khắc phục hậu quả buộc khôi phục lại tình trạng ban đầu đã bị thay đổi do vi phạm hành chính gây ra.\\n7. Ngoài việc bị áp dụng hình thức xử phạt, người điều khiển phương tiện thực hiện hành vi vi phạm còn bị trừ điểm giấy phép lái xe như sau:\\na) Thực hiện hành vi quy định tại khoản 1, khoản 3, điểm a khoản 4 Điều này còn bị trừ điểm giấy phép lái xe 02 điểm;\\nb) Thực hiện hành vi quy định tại điểm b, điểm c khoản 4 Điều này còn bị trừ điểm giấy phép lái xe 03 điểm;\\nc) Thực hiện hành vi quy định tại điểm a khoản 5 Điều này còn bị trừ điểm giấy phép lái xe 04 điểm;\\nd) Thực hiện hành vi quy định tại điểm b khoản 5 Điều này còn bị trừ điểm giấy phép lái xe 10 điểm.'"
      ]
     },
     "execution_count": 4,
     "metadata": {},
     "output_type": "execute_result"
    }
   ],
   "source": [
    "data['content'][0]"
   ]
  },
  {
   "cell_type": "code",
   "execution_count": 38,
   "metadata": {},
   "outputs": [],
   "source": [
    "import re\n",
    "from rapidfuzz import fuzz\n",
    "def is_similar(q1: str, q2: str, threshold=70) -> bool:\n",
    "    \"\"\"\n",
    "    Sử dụng fuzzy matching để so sánh hai câu hỏi.\n",
    "    Nếu điểm tương đồng >= threshold, coi như chúng trùng ý.\n",
    "    \"\"\"\n",
    "    ratio = fuzz.ratio(q1.lower(), q2.lower())\n",
    "    return ratio >= threshold\n",
    "\n",
    "\n",
    "def extract_qa_pairs(generated_text: str):\n",
    "    \"\"\"\n",
    "    Tách tất cả cặp hỏi-đáp từ một đoạn văn bản đầu ra của mô hình.\n",
    "    Trả về danh sách dict có keys: 'question' và 'answer'.\n",
    "    \"\"\"\n",
    "    pattern = r\"Câu hỏi:\\s*(.*?)\\s*Trả lời:\\s*(.*?)(?=\\s*Câu hỏi:|$)\"\n",
    "    matches = re.findall(pattern, generated_text, flags=re.DOTALL)\n",
    "\n",
    "    results = []\n",
    "    for q_content, a_content in matches:\n",
    "        q_clean = clean_text(q_content)\n",
    "        a_clean = clean_text(a_content)\n",
    "        results.append({\n",
    "            \"question\": q_clean,\n",
    "            \"answer\": a_clean\n",
    "        })\n",
    "    return results\n",
    "\n",
    "\n",
    "def clean_text(text: str) -> str:\n",
    "    \"\"\"\n",
    "    Loại bỏ các ký tự không mong muốn như '---', '###', dấu xuống dòng thừa, \n",
    "    khoảng trắng thừa ở đầu/cuối, v.v...\n",
    "    \"\"\"\n",
    "    text = re.sub(r\"---+\", \"\", text)   \n",
    "    text = re.sub(r\"#+\", \"\", text)     \n",
    "    text = re.sub(r\"\\s*\\n\\s*\", \" \", text) \n",
    "    text = text.strip()  \n",
    "    return text"
   ]
  },
  {
   "cell_type": "code",
   "execution_count": 8,
   "metadata": {},
   "outputs": [],
   "source": [
    "prompt_template = \"\"\"\n",
    "Bạn là một chuyên gia phân tích văn bản pháp luật Việt Nam. Nhiệm vụ của bạn là tạo các cặp câu hỏi và trả lời chuyên sâu, rõ ràng, phù hợp với nội dung và ngữ cảnh. Để đảm bảo chất lượng, vui lòng tuân thủ các quy tắc sau:\n",
    "\n",
    "---\n",
    "\n",
    "### Văn bản cung cấp:\n",
    "{context}\n",
    "\n",
    "---\n",
    "\n",
    "### Quy tắc tạo **Câu hỏi**:\n",
    "1. **Loại câu hỏi cần tạo**:\n",
    "   - Định nghĩa pháp lý hoặc thuật ngữ quan trọng trong văn bản.\n",
    "   - Phạm vi áp dụng hoặc đối tượng được điều chỉnh.\n",
    "   - Quyền, nghĩa vụ, hoặc trách nhiệm của các bên liên quan.\n",
    "   - Quy trình, thủ tục hoặc điều kiện áp dụng.\n",
    "   - Chế tài xử lý hoặc biện pháp khắc phục hậu quả.\n",
    "   - Mỗi câu hỏi không quá 20 từ.\n",
    "\n",
    "2. **Yêu cầu nội dung câu hỏi**:\n",
    "   - Không sử dụng các tham chiếu cụ thể .\n",
    "   - Tập trung vào các quy định hoặc điểm chính của văn bản.\n",
    "   - Sử dụng ngôn ngữ dễ hiểu, không quá chuyên môn hóa.\n",
    "   - Rõ ràng, súc tích, phản ánh đúng nội dung trọng tâm.\n",
    "   - Tính ứng dụng cao và liên quan trực tiếp.\n",
    "   \n",
    "\n",
    "---\n",
    "\n",
    "### Quy tắc tạo **Câu trả lời**:\n",
    "1. **Nội dung trả lời**:\n",
    "   - Cung cấp thông tin rõ ràng, đầy đủ, xúc tích.\n",
    "   - Liên kết các quy định với các khía cạnh khác nếu liên quan.\n",
    "   - Không cần trích tham chiếu cụ thể  từ văn bản gốc.\n",
    "   - Mỗi câu hỏi không quá 50 từ.\n",
    "\n",
    "2. **Hình thức trình bày**:\n",
    "   - Trình bày hệ thống, dễ hiểu, mạch lạc.\n",
    "   - Duy trì tính khách quan, tránh suy diễn.\n",
    "   - Ngôn ngữ pháp lý chuyên nghiệp nhưng dễ tiếp cận.\n",
    "   - Tính ứng dụng cao, phù hợp với người dùng phổ thông.\n",
    "\n",
    "---\n",
    "\n",
    "### Định dạng yêu cầu:\n",
    "- **Câu hỏi:** Bắt đầu bằng \"Câu hỏi:\".\n",
    "- **Câu trả lời:** Bắt đầu bằng \"Trả lời:\".\n",
    "- Mỗi cặp câu hỏi-trả lời được phân tách bằng một dòng trống.\n",
    "- Giữ phong cách chuyên nghiệp nhưng thân thiện với người dùng phổ thông.\n",
    "\n",
    "---\n",
    "\n",
    "### Ví dụ mẫu:\n",
    "Câu hỏi: Các hình thức xử phạt vi phạm hành chính trong giao thông đường bộ là gì?\n",
    "\n",
    "Trả lời: Đối với mỗi hành vi vi phạm hành chính về trật tự, an toàn giao thông trong lĩnh vực giao thông đường bộ, cá nhân, tổ chức vi phạm phải chịu một trong các hình thức xử phạt chính sau đây:\n",
    "a) Cảnh cáo;\n",
    "b) Phạt tiền;\n",
    "c) Tịch thu phương tiện được sử dụng để vi phạm hành chính.\n",
    "---\n",
    "\n",
    "Bây giờ, hãy tạo **một cặp câu hỏi và câu trả lời duy nhất** dựa trên văn bản đã cung cấp. Đảm bảo rằng câu trả lời không chứa câu hỏi tiếp theo.\n",
    "\n",
    "\n",
    "    \"\"\""
   ]
  },
  {
   "cell_type": "code",
   "execution_count": 9,
   "metadata": {},
   "outputs": [
    {
     "ename": "KeyError",
     "evalue": "'\\n    \"qas\"'",
     "output_type": "error",
     "traceback": [
      "\u001b[0;31m---------------------------------------------------------------------------\u001b[0m",
      "\u001b[0;31mKeyError\u001b[0m                                  Traceback (most recent call last)",
      "Cell \u001b[0;32mIn[9], line 11\u001b[0m\n\u001b[1;32m      8\u001b[0m \u001b[38;5;28;01mwhile\u001b[39;00m \u001b[38;5;28mlen\u001b[39m(qa_pairs) \u001b[38;5;241m<\u001b[39m num_qa_pairs \u001b[38;5;129;01mand\u001b[39;00m attempts \u001b[38;5;241m<\u001b[39m max_attempts:\n\u001b[1;32m      9\u001b[0m     attempts \u001b[38;5;241m+\u001b[39m\u001b[38;5;241m=\u001b[39m \u001b[38;5;241m1\u001b[39m\n\u001b[0;32m---> 11\u001b[0m     prompt \u001b[38;5;241m=\u001b[39m \u001b[43mprompt_template\u001b[49m\u001b[38;5;241;43m.\u001b[39;49m\u001b[43mformat\u001b[49m\u001b[43m(\u001b[49m\u001b[43mcontext\u001b[49m\u001b[38;5;241;43m=\u001b[39;49m\u001b[43mtext\u001b[49m\u001b[43m)\u001b[49m\n\u001b[1;32m     13\u001b[0m     inputs \u001b[38;5;241m=\u001b[39m tokenizer(prompt, return_tensors\u001b[38;5;241m=\u001b[39m\u001b[38;5;124m\"\u001b[39m\u001b[38;5;124mpt\u001b[39m\u001b[38;5;124m\"\u001b[39m)\u001b[38;5;241m.\u001b[39mto(model\u001b[38;5;241m.\u001b[39mdevice)\n\u001b[1;32m     14\u001b[0m     outputs \u001b[38;5;241m=\u001b[39m model\u001b[38;5;241m.\u001b[39mgenerate(\n\u001b[1;32m     15\u001b[0m         inputs\u001b[38;5;241m.\u001b[39minput_ids,\n\u001b[1;32m     16\u001b[0m         max_new_tokens\u001b[38;5;241m=\u001b[39m\u001b[38;5;241m1000\u001b[39m,\n\u001b[0;32m   (...)\u001b[0m\n\u001b[1;32m     20\u001b[0m         eos_token_id\u001b[38;5;241m=\u001b[39mtokenizer\u001b[38;5;241m.\u001b[39meos_token_id,\n\u001b[1;32m     21\u001b[0m     )\n",
      "\u001b[0;31mKeyError\u001b[0m: '\\n    \"qas\"'"
     ]
    }
   ],
   "source": [
    "import json\n",
    "\n",
    "qa_pairs = []\n",
    "existing_questions = [] \n",
    "num_qa_pairs = 40\n",
    "\n",
    "for _ in range(num_qa_pairs):\n",
    "    \n",
    "    prompt = prompt_template.format(context=str(data['content']))\n",
    "    \n",
    "   \n",
    "    inputs = tokenizer(prompt, return_tensors=\"pt\").to(model.device)\n",
    "    outputs = model.generate(\n",
    "        inputs.input_ids,\n",
    "        max_new_tokens=1000,\n",
    "        temperature=0.7,\n",
    "        top_p=0.9,\n",
    "        pad_token_id=tokenizer.pad_token_id,\n",
    "        eos_token_id=tokenizer.eos_token_id,\n",
    "    )\n",
    "    \n",
    "    \n",
    "    response = tokenizer.decode(outputs[0], skip_special_tokens=True)\n",
    "    generated_content = response.split(prompt)[-1].strip()\n",
    "    \n",
    "    \n",
    "    pairs = extract_qa_pairs(generated_content)\n",
    "\n",
    "    if not pairs:\n",
    "        # Nếu không có cặp Q&A nào\n",
    "        qa_pairs.append({\n",
    "                \"question\": \"\",\n",
    "                \"answer\": \"\",\n",
    "                \n",
    "                })\n",
    "    else:\n",
    "        # Kiểm tra trùng lặp bằng fuzzy matching\n",
    "        for pair in pairs:\n",
    "            q_current = pair['question']\n",
    "            # Kiểm tra xem q_current có \"giống\" câu hỏi nào trong existing_questions\n",
    "            is_duplicate = any(is_similar(q_current, q_exist) for q_exist in existing_questions)\n",
    "                    \n",
    "            # Nếu không bị xem là giống, ta thêm vào danh sách\n",
    "            if not is_duplicate:\n",
    "                existing_questions.append(q_current)\n",
    "                qa_pairs.append(pair)\n",
    "\n",
    "output_file = \"result.json\"\n",
    "with open(output_file, \"w\", encoding=\"utf-8\") as f:\n",
    "    json.dump(qa_pairs, f, ensure_ascii=False, indent=4)\n",
    "\n",
    "print(f\"Đã lưu {len(qa_pairs)} cặp Q&A vào file {output_file}\")"
   ]
  },
  {
   "cell_type": "code",
   "execution_count": null,
   "metadata": {},
   "outputs": [],
   "source": []
  }
 ],
 "metadata": {
  "kernelspec": {
   "display_name": "venv",
   "language": "python",
   "name": "python3"
  },
  "language_info": {
   "codemirror_mode": {
    "name": "ipython",
    "version": 3
   },
   "file_extension": ".py",
   "mimetype": "text/x-python",
   "name": "python",
   "nbconvert_exporter": "python",
   "pygments_lexer": "ipython3",
   "version": "3.10.12"
  }
 },
 "nbformat": 4,
 "nbformat_minor": 2
}
