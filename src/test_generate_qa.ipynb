{
 "cells": [
  {
   "cell_type": "code",
   "execution_count": 1,
   "metadata": {},
   "outputs": [
    {
     "name": "stderr",
     "output_type": "stream",
     "text": [
      "/home/ltnga/LawVN-Instructction-Gen/venv/lib/python3.10/site-packages/tqdm/auto.py:21: TqdmWarning: IProgress not found. Please update jupyter and ipywidgets. See https://ipywidgets.readthedocs.io/en/stable/user_install.html\n",
      "  from .autonotebook import tqdm as notebook_tqdm\n"
     ]
    }
   ],
   "source": [
    "import json\n",
    "from transformers import AutoTokenizer, AutoModelForCausalLM\n",
    "import torch\n",
    "import accelerate\n",
    "from transformers import pipeline"
   ]
  },
  {
   "cell_type": "code",
   "execution_count": 2,
   "metadata": {},
   "outputs": [
    {
     "name": "stderr",
     "output_type": "stream",
     "text": [
      "Loading checkpoint shards: 100%|██████████| 8/8 [07:05<00:00, 53.16s/it]\n"
     ]
    }
   ],
   "source": [
    "model_name = \"deepseek-ai/DeepSeek-R1-Distill-Qwen-32B\"\n",
    "tokenizer = AutoTokenizer.from_pretrained(model_name, trust_remote_code=True)\n",
    "model = AutoModelForCausalLM.from_pretrained(\n",
    "        model_name,\n",
    "        device_map=\"auto\",\n",
    "        trust_remote_code=True,\n",
    "        torch_dtype=torch.float16\n",
    "    )"
   ]
  },
  {
   "cell_type": "code",
   "execution_count": 22,
   "metadata": {},
   "outputs": [],
   "source": [
    "file_path = \"/home/ltnga/LawVN-Instructction-Gen/src/data/data_gen.json\"\n",
    "with open(file_path, 'r', encoding='utf-8') as f:\n",
    "        data =json.load(f)"
   ]
  },
  {
   "cell_type": "code",
   "execution_count": 23,
   "metadata": {},
   "outputs": [
    {
     "data": {
      "text/plain": [
       "'Điều 34. Xử phạt, trừ điểm giấy phép lái xe của người điều khiển quá khổ giới hạn, xe quá tải trọng, xe bánh xích lưu hành đường bộ (kể cả xe ô tô chở hành khách)\\n1. Phạt tiền từ 3.000.000 đồng đến 5.000.000 đồng đối với hành vi không thực hiện đúng quy định trong giấy phép lưu hành, trừ các hành vi vi phạm quy định tại điểm a, điểm b khoản 3; điểm b, điểm c khoản 4 Điều này.\\n2. Phạt tiền từ 4.000.000 đồng đến 6.000.000 đồng đối với hành vi điều khiển xe mà tổng trọng lượng (khối lượng toàn bộ) của xe vượt quá tải trọng cho phép của đường bộ trên 10% đến 20%, trừ trường hợp có giấy phép lưu hành còn giá trị sử dụng.\\n3. Phạt tiền từ 8.000.000 đồng đến 10.000.000 đồng đối với một trong các hành vi vi phạm sau đây:\\na) Chở hàng vượt khổ giới hạn của xe hoặc của đường bộ ghi trong giấy phép lưu hành;\\nb) Điều khiển xe bánh xích tham gia giao thông không có giấy phép lưu hành hoặc có giấy phép lưu hành nhưng không còn giá trị sử dụng theo quy định hoặc lưu thông trực tiếp trên đường mà không thực hiện biện pháp bảo vệ đường theo quy định;\\nc) Điều khiển xe có kích thước bao ngoài vượt quá khổ giới hạn của đường bộ hoặc chở hàng vượt khổ giới hạn của đường bộ hoặc chở hàng vượt quá kích thước giới hạn xếp hàng hóa của xe tham gia giao thông, trừ trường hợp có giấy phép lưu hành còn giá trị sử dụng;\\nd) Điều khiển xe có kích thước bao ngoài vượt quá kích thước giới hạn cho phép của xe theo quy định, trừ trường hợp có giấy phép lưu hành còn giá trị sử dụng.\\n4. Phạt tiền từ 13.000.000 đồng đến 15.000.000 đồng đối với một trong các hành vi vi phạm sau đây:\\na) Điều khiển xe mà tổng trọng lượng (khối lượng toàn bộ) của xe hoặc tải trọng trục xe (bao gồm cả hàng hóa xếp trên xe, người được chở trên xe) vượt quá tải trọng cho phép của đường bộ trên 20% đến 50%, trừ trường hợp có giấy phép lưu hành còn giá trị sử dụng;\\nb) Điều khiển xe có giấy phép lưu hành còn giá trị sử dụng nhưng tổng trọng lượng (khối lượng toàn bộ) của xe hoặc tải trọng trục xe (bao gồm cả hàng hóa xếp trên xe nếu có) vượt quá quy định trong giấy phép lưu hành;\\nc) Điều khiển xe có giấy phép lưu hành còn giá trị sử dụng nhưng đi không đúng tuyến đường quy định trong giấy phép lưu hành.\\n5. Phạt tiền từ 40.000.000 đồng đến 50.000.000 đồng đối với một trong các hành vi vi phạm sau đây:\\na) Điều khiển xe mà tổng trọng lượng (khối lượng toàn bộ) của xe hoặc tải trọng trục xe (bao gồm cả hàng hóa xếp trên xe, người được chở trên xe) vượt quá tải trọng cho phép của đường bộ trên 50%, trừ trường hợp có giấy phép lưu hành còn giá trị sử dụng;\\nb) Không chấp hành yêu cầu kiểm tra về trọng tải, tải trọng, khổ giới hạn xe, vận chuyển hàng siêu trường, siêu trọng của người thi hành công vụ; chuyển tải hoặc dùng các thủ đoạn khác để trốn tránh việc phát hiện xe chở quá tải, quá khổ.\\n6. Ngoài việc bị áp dụng hình thức xử phạt, người điều khiển phương tiện thực hiện hành vi vi phạm quy định tại khoản 1, khoản 2, khoản 3, khoản 4, khoản 5 Điều này nếu gây hư hại cầu, đường còn bị áp dụng biện pháp khắc phục hậu quả buộc khôi phục lại tình trạng ban đầu đã bị thay đổi do vi phạm hành chính gây ra.\\n7. Ngoài việc bị áp dụng hình thức xử phạt, người điều khiển phương tiện thực hiện hành vi vi phạm còn bị trừ điểm giấy phép lái xe như sau:\\na) Thực hiện hành vi quy định tại khoản 1, khoản 3, điểm a khoản 4 Điều này còn bị trừ điểm giấy phép lái xe 02 điểm;\\nb) Thực hiện hành vi quy định tại điểm b, điểm c khoản 4 Điều này còn bị trừ điểm giấy phép lái xe 03 điểm;\\nc) Thực hiện hành vi quy định tại điểm a khoản 5 Điều này còn bị trừ điểm giấy phép lái xe 04 điểm;\\nd) Thực hiện hành vi quy định tại điểm b khoản 5 Điều này còn bị trừ điểm giấy phép lái xe 10 điểm.'"
      ]
     },
     "execution_count": 23,
     "metadata": {},
     "output_type": "execute_result"
    }
   ],
   "source": [
    "data['content'][0]"
   ]
  },
  {
   "cell_type": "code",
   "execution_count": 38,
   "metadata": {},
   "outputs": [],
   "source": [
    "import re\n",
    "from rapidfuzz import fuzz\n",
    "def find_relevant_context(answer: str, full_text: str) -> str:\n",
    "    \"\"\"\n",
    "    Tìm đoạn văn bản context chứa thông tin liên quan đến câu trả lời một cách chính xác hơn\n",
    "    \"\"\"\n",
    "    # Tìm các con số trong câu trả lời (ví dụ: mức phạt)\n",
    "    numbers = re.findall(r'\\d+(?:\\.\\d+)?', answer)\n",
    "    \n",
    "    # Tìm các đoạn văn bản có chứa các con số này\n",
    "    potential_contexts = []\n",
    "    for number in numbers:\n",
    "        # Tìm điều khoản chứa số tiền phạt\n",
    "        pattern = f\"(Điều \\d+[\\s\\S]*?{number}[\\s\\S]*?đồng.*?\\.)\"\n",
    "        matches = re.findall(pattern, full_text)\n",
    "        potential_contexts.extend(matches)\n",
    "\n",
    "    if potential_contexts:\n",
    "        # Lấy context dài nhất (thường là đầy đủ nhất)\n",
    "        context = max(potential_contexts, key=len)\n",
    "        # Làm sạch context\n",
    "        context = re.sub(r'\\s+', ' ', context).strip()\n",
    "        return context\n",
    "\n",
    "    # Nếu không tìm thấy theo số tiền, tìm theo từ khóa\n",
    "    keywords = re.findall(r'\\b\\w+\\b', answer.lower())\n",
    "    best_context = \"\"\n",
    "    max_matches = 0\n",
    "    \n",
    "    # Tìm điều khoản theo từ khóa\n",
    "    for match in re.finditer(r'(Điều \\d+[\\s\\S]*?)(?=Điều \\d+|$)', full_text):\n",
    "        section = match.group(1)\n",
    "        matches = sum(1 for keyword in keywords if keyword in section.lower())\n",
    "        if matches > max_matches:\n",
    "            max_matches = matches\n",
    "            best_context = section\n",
    "\n",
    "    if best_context:\n",
    "        # Làm sạch context\n",
    "        best_context = re.sub(r'\\s+', ' ', best_context).strip()\n",
    "        return best_context\n",
    "        \n",
    "    return \"\"\n",
    "\n",
    "def extract_qa_pairs(generated_text: str, source_text: str):\n",
    "    \"\"\"\n",
    "    Tách các cặp hỏi-đáp với format chuẩn hơn\n",
    "    \"\"\"\n",
    "    pattern = r\"Câu hỏi:\\s*(.*?)\\s*Trả lời:\\s*(.*?)(?=\\s*Câu hỏi:|$)\"\n",
    "    matches = re.findall(pattern, generated_text, flags=re.DOTALL)\n",
    "\n",
    "    results = []\n",
    "    for q_content, a_content in matches:\n",
    "        # Làm sạch câu hỏi và câu trả lời\n",
    "        q_clean = clean_text(q_content)\n",
    "        a_clean = clean_text(a_content)\n",
    "        \n",
    "        # Đảm bảo câu trả lời bắt đầu bằng \"Theo Nghị định 168\"\n",
    "        if not a_clean.startswith(\"Theo Nghị định 168\"):\n",
    "            a_clean = \"Theo Nghị định 168, \" + a_clean\n",
    "            \n",
    "        # Tìm context phù hợp\n",
    "        context = find_relevant_context(a_clean, source_text)\n",
    "        if not context:\n",
    "            continue\n",
    "            \n",
    "        results.append({\n",
    "            \"question\": q_clean,\n",
    "            \"context\": context,\n",
    "            \"answer\": a_clean\n",
    "        })\n",
    "    return results\n",
    "\n",
    "def clean_text(text: str) -> str:\n",
    "    \"\"\"\n",
    "    Làm sạch văn bản kỹ hơn\n",
    "    \"\"\"\n",
    "    # Xóa các ký tự đặc biệt\n",
    "    text = re.sub(r\"---+\", \"\", text)\n",
    "    text = re.sub(r\"#+\", \"\", text)\n",
    "    \n",
    "    # Chuẩn hóa khoảng trắng\n",
    "    text = re.sub(r'\\s+', ' ', text)\n",
    "    \n",
    "    # Xóa dấu chấm cuối nếu có\n",
    "    text = text.strip().rstrip('.')\n",
    "    \n",
    "    # Thêm dấu chấm cuối nếu chưa có\n",
    "    if not text.endswith('.'):\n",
    "        text += '.'\n",
    "        \n",
    "    return text\n",
    "\n",
    "def is_similar(q1: str, q2: str, threshold=70) -> bool:\n",
    "    ratio = fuzz.ratio(q1.lower(), q2.lower())\n",
    "    return ratio >= threshold"
   ]
  },
  {
   "cell_type": "code",
   "execution_count": 33,
   "metadata": {},
   "outputs": [],
   "source": [
    "prompt_template = \"\"\"\n",
    "Bạn là một chuyên gia phân tích văn bản pháp luật Việt Nam. Nhiệm vụ của bạn là tạo các cặp câu hỏi và trả lời chuyên sâu về Nghị định 168 về xử phạt giao thông. \n",
    "\n",
    "### Văn bản cung cấp:\n",
    "{context}\n",
    "\n",
    "### Yêu cầu về output:\n",
    "- Output phải chứa 3 phần: question (câu hỏi), context (trích dẫn nghị định), answer (câu trả lời)\n",
    "- Context phải là trích dẫn chính xác từ nghị định, bao gồm số điều khoản\n",
    "- Answer phải bắt đầu bằng \"Theo Nghị định 168,\"\n",
    "\n",
    "### Quy tắc tạo Question:\n",
    "1. Tập trung vào các nội dung:\n",
    "   - Mức phạt tiền cho các vi phạm cụ thể\n",
    "   - Các hành vi bị nghiêm cấm\n",
    "   - Biện pháp xử phạt bổ sung\n",
    "   - Thẩm quyền xử phạt\n",
    "   - Thủ tục xử phạt\n",
    "\n",
    "2. Format câu hỏi:\n",
    "   - Ngắn gọn, không quá 20 từ\n",
    "   - Phải chứa từ khóa cụ thể về hành vi/vi phạm\n",
    "   - Nên bắt đầu bằng \"Mức phạt...\" nếu hỏi về tiền phạt\n",
    "\n",
    "### Quy tắc tạo Context:\n",
    "- Trích dẫn chính xác điều khoản liên quan\n",
    "- Format: \"Điều X khoản Y: [nội dung]\"\n",
    "- Chỉ lấy phần văn bản liên quan trực tiếp\n",
    "\n",
    "### Quy tắc tạo Answer:\n",
    "- Bắt đầu bằng \"Theo Nghị định 168,\"\n",
    "- Nêu rõ mức phạt/hình thức xử phạt\n",
    "- Ngắn gọn, không quá 50 từ\n",
    "- Kết hợp thông tin từ các điều khoản liên quan\n",
    "\n",
    "### Ví dụ mẫu:\n",
    "Câu hỏi: Mức phạt cho hành vi không chấp hành biển báo hiệu giao thông?\n",
    "\n",
    "Context: \"Phạt tiền từ 400.000 đồng đến 600.000 đồng đối với người điều khiển xe thực hiện một trong các hành vi vi phạm sau đây: a) Không chấp hành hiệu lệnh, chỉ dẫn của biển báo hiệu, vạch kẻ đường, trừ các hành vi vi phạm quy định tại điểm a, điểm c, điểm d, điểm đ khoản 2; điểm a, điểm d, điểm đ, điểm e, điểm n, điểm o khoản 3;...\"\n",
    "\n",
    "Trả lời: Theo Nghị định 168, hành vi không chấp hành hiệu lệnh, chỉ dẫn của biển báo hiệu, vạch kẻ đường bị phạt tiền từ 400.000 đồng đến 600.000 đồng.\n",
    "\n",
    "Hãy tạo một cặp question-context-answer duy nhất theo đúng format trên.\n",
    "\"\"\""
   ]
  },
  {
   "cell_type": "code",
   "execution_count": 39,
   "metadata": {},
   "outputs": [
    {
     "name": "stdout",
     "output_type": "stream",
     "text": [
      "Đã lưu 2 cặp Q&A vào file training_data.json\n"
     ]
    }
   ],
   "source": [
    "text = data['content'][0]  # Lấy phần tử đầu tiên của list\n",
    "\n",
    "qa_pairs = []\n",
    "existing_questions = []\n",
    "num_qa_pairs = 5\n",
    "\n",
    "for _ in range(num_qa_pairs):\n",
    "    # Sử dụng text trực tiếp\n",
    "    prompt = prompt_template.format(context=text)\n",
    "    \n",
    "    inputs = tokenizer(prompt, return_tensors=\"pt\").to(model.device)\n",
    "    outputs = model.generate(\n",
    "        inputs.input_ids,\n",
    "        max_new_tokens=1000,\n",
    "        temperature=0.7,\n",
    "        top_p=0.9,\n",
    "        pad_token_id=tokenizer.pad_token_id,\n",
    "        eos_token_id=tokenizer.eos_token_id,\n",
    "    )\n",
    "    \n",
    "    response = tokenizer.decode(outputs[0], skip_special_tokens=True)\n",
    "    generated_content = response.split(prompt)[-1].strip()\n",
    "    \n",
    "    pairs = extract_qa_pairs(generated_content,text)\n",
    "    \n",
    "    if pairs:\n",
    "        for pair in pairs:\n",
    "            q_current = pair['question']\n",
    "            is_duplicate = any(is_similar(q_current, q_exist) for q_exist in existing_questions)\n",
    "            \n",
    "            if not is_duplicate and pair['context']:\n",
    "                existing_questions.append(q_current)\n",
    "                qa_pairs.append({\n",
    "                    \"question\": pair['question'],\n",
    "                    \"context\": pair['context'],\n",
    "                    \"answer\": pair['answer']\n",
    "                })\n",
    "\n",
    "# Lưu kết quả\n",
    "output_file = \"training_data.json\"\n",
    "with open(output_file, \"w\", encoding=\"utf-8\") as f:\n",
    "    json.dump(qa_pairs, f, ensure_ascii=False, indent=4)\n",
    "\n",
    "print(f\"Đã lưu {len(qa_pairs)} cặp Q&A vào file {output_file}\")"
   ]
  },
  {
   "cell_type": "code",
   "execution_count": null,
   "metadata": {},
   "outputs": [],
   "source": []
  }
 ],
 "metadata": {
  "kernelspec": {
   "display_name": "venv",
   "language": "python",
   "name": "python3"
  },
  "language_info": {
   "codemirror_mode": {
    "name": "ipython",
    "version": 3
   },
   "file_extension": ".py",
   "mimetype": "text/x-python",
   "name": "python",
   "nbconvert_exporter": "python",
   "pygments_lexer": "ipython3",
   "version": "3.10.12"
  }
 },
 "nbformat": 4,
 "nbformat_minor": 2
}
